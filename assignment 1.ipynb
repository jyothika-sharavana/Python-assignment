{
 "cells": [
  {
   "cell_type": "code",
   "execution_count": 7,
   "id": "2e936d68-0f3e-4dfb-9d41-756322d4872d",
   "metadata": {},
   "outputs": [
    {
     "name": "stdout",
     "output_type": "stream",
     "text": [
      "Processed data saved to: C:\\Users\\Jo\\Downloads\\assignment\\output.csv\n"
     ]
    }
   ],
   "source": [
    "import csv\n",
    "import os\n",
    "\n",
    "def reverse_in_pairs(string):\n",
    "    return ''.join([string[i+1] + string[i] for i in range(0, len(string), 2)])\n",
    "\n",
    "def process_csv(input_file, output_file):\n",
    "    with open(input_file, mode='r', newline='', encoding='utf-8') as infile:\n",
    "        reader = csv.reader(infile)\n",
    "        data = [row[0] for row in reader]\n",
    "        \n",
    "    processed_data = [reverse_in_pairs(row) for row in data]\n",
    "\n",
    "    with open(output_file, mode='w', newline='', encoding='utf-8') as outfile:\n",
    "        writer = csv.writer(outfile)\n",
    "        for row in processed_data:\n",
    "            writer.writerow([row]) \n",
    "\n",
    "if __name__ == \"__main__\":\n",
    "    input_file = r'C:\\Users\\Jo\\Downloads\\assignment\\test_file.csv'\n",
    "    output_dir = r'C:\\Users\\Jo\\Downloads\\assignment'\n",
    "    output_file = os.path.join(output_dir, 'output.csv')\n",
    "\n",
    "    if not os.path.exists(output_dir):\n",
    "        os.makedirs(output_dir)\n",
    "    if os.path.exists(input_file):\n",
    "        process_csv(input_file, output_file)\n",
    "        print(f\"Processed data saved to: {output_file}\")\n",
    "    else:\n",
    "        print(f\"Input file not found: {input_file}\")\n"
   ]
  },
  {
   "cell_type": "code",
   "execution_count": null,
   "id": "3dc44e12-45d2-493c-9c9d-902693d0e990",
   "metadata": {},
   "outputs": [],
   "source": []
  }
 ],
 "metadata": {
  "kernelspec": {
   "display_name": "Python 3 (ipykernel)",
   "language": "python",
   "name": "python3"
  },
  "language_info": {
   "codemirror_mode": {
    "name": "ipython",
    "version": 3
   },
   "file_extension": ".py",
   "mimetype": "text/x-python",
   "name": "python",
   "nbconvert_exporter": "python",
   "pygments_lexer": "ipython3",
   "version": "3.12.5"
  }
 },
 "nbformat": 4,
 "nbformat_minor": 5
}
